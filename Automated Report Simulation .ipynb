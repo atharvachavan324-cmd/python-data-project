{
 "cells": [
  {
   "cell_type": "code",
   "execution_count": 1,
   "id": "3c78abe0-71fe-41e8-a645-609e2f6e70db",
   "metadata": {},
   "outputs": [
    {
     "name": "stdout",
     "output_type": "stream",
     "text": [
      "--- Daily Sales Report ---\n",
      "\n",
      "Region\n",
      "North    120000\n",
      "South     85000\n",
      "West      30000\n",
      "\n",
      "Generated automatically using Python\n"
     ]
    }
   ],
   "source": [
    "import pandas as pd\n",
    "\n",
    "# Read CSV\n",
    "df = pd.read_csv('sales.csv')\n",
    "df['Revenue'] = df['Price'] * df['Quantity']\n",
    "\n",
    "# Group by Region\n",
    "summary = df.groupby('Region')['Revenue'].sum()\n",
    "\n",
    "# Create Report\n",
    "report = f\"--- Daily Sales Report ---\\n\\n{summary.to_string()}\\n\\nGenerated automatically using Python\"\n",
    "\n",
    "# Print report (simulate sending)\n",
    "print(report)\n"
   ]
  },
  {
   "cell_type": "code",
   "execution_count": null,
   "id": "c8ba6387-8c6b-4da6-9730-37dad02a5a13",
   "metadata": {},
   "outputs": [],
   "source": []
  }
 ],
 "metadata": {
  "kernelspec": {
   "display_name": "Python [conda env:base] *",
   "language": "python",
   "name": "conda-base-py"
  },
  "language_info": {
   "codemirror_mode": {
    "name": "ipython",
    "version": 3
   },
   "file_extension": ".py",
   "mimetype": "text/x-python",
   "name": "python",
   "nbconvert_exporter": "python",
   "pygments_lexer": "ipython3",
   "version": "3.12.7"
  }
 },
 "nbformat": 4,
 "nbformat_minor": 5
}
